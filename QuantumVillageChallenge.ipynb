{
  "nbformat": 4,
  "nbformat_minor": 0,
  "metadata": {
    "colab": {
      "provenance": [],
      "include_colab_link": true
    },
    "kernelspec": {
      "name": "python3",
      "display_name": "Python 3"
    },
    "language_info": {
      "name": "python"
    }
  },
  "cells": [
    {
      "cell_type": "markdown",
      "metadata": {
        "id": "view-in-github",
        "colab_type": "text"
      },
      "source": [
        "<a href=\"https://colab.research.google.com/github/Ruchir555/QuantumVillageChallenge/blob/main/QuantumVillageChallenge.ipynb\" target=\"_parent\"><img src=\"https://colab.research.google.com/assets/colab-badge.svg\" alt=\"Open In Colab\"/></a>"
      ]
    },
    {
      "cell_type": "code",
      "source": [
        "import numpy as np\n",
        "import base64"
      ],
      "metadata": {
        "id": "tk7REuWFMGfn"
      },
      "execution_count": null,
      "outputs": []
    },
    {
      "cell_type": "code",
      "source": [
        "Alice_bases = \"+XX+++++++++X+++X+XX++X+++++++XXX++++X+XXX+++X+XXXX+X++X++XXXX++++++X+X+++X+XX++X++++XX+++X+XXXX++XXX+XX+XX++XXX++XXX+X+X+XX+++X+++++++XXX++XXXX+XXXXXXXXX+X+X+X++X+X+++XX+X+XXXX++XX+XXXX++X++XXX+XXXXXX+++++XXX+XX++X+++++X+++XXX+XXX++++XXXXX++X+++XX++++XXX+++X+XX+XXX+X+XXX++XXX++XX++++XXX+X++XX+++XXXX+X+X++++XXX+XXXXX+XXX+X+XXX+XXXX+X+++XXX+X+++++++XX+X++++X++XXXX+++\"\n",
        "\n",
        "Bob_bases = \"XX++++++XXXX+XX+XX+X++X++++++X+X++XX+++X+XX++++XXX+X++XXX+++XXX+++X+++XX+XXX+XX+++XX++++XXX++X+X+X++X++X+XX+++++XX+XXXX++XXXX+X+++X+XX+++X++XX+X+X+X++XX+++XXX+X+++++X++++X+XX+X+X+++XXXX++++XXX+XX+X+XXX+XXXXXXX+++XXXX+XX+X++XX+XXXX+X+XXXXX+X+XXX++X+X+++++XXXX++XXX+X+X+XX++X+X+XX++++XXXXXXX++XXXXX+XX+X++X+X++++X+XXX+X+XX+XXXXXXX+X++X++X+X+X+X++++X+X+++X++X+++++X+X++XX\"\n",
        "\n",
        "alice_bits = [1, 0, 1, 0, 1, 1, 0, 1, 1, 0, 1, 0, 0, 1, 0, 1, 0, 1, 0, 0, 1, 1,\n",
        "              0, 0, 0, 1, 1, 1, 0, 0, 1, 1, 1, 0, 0, 1, 1, 1, 0, 0, 0, 0, 0, 1,\n",
        "              1, 0, 0, 1, 0, 0, 0, 1, 0, 1, 1, 1, 1, 1, 1, 1, 1, 1, 0, 1, 0, 1,\n",
        "              0, 1, 1, 0, 1, 0, 0, 0, 1, 0, 1, 0, 1, 1, 0, 1, 1, 1, 1, 0, 1, 1,\n",
        "              0, 1, 0, 1, 0, 0, 1, 0, 1, 0, 0, 0, 0, 0, 0, 1, 0, 0, 1, 1, 0, 1,\n",
        "              0, 1, 0, 0, 1, 0, 0, 1, 1, 0, 1, 0, 1, 1, 0, 0, 0, 1, 1, 1, 1, 1,\n",
        "              0, 1, 0, 1, 1, 0, 0, 0, 0, 1, 0, 1, 1, 0, 0, 0, 1, 1, 1, 0, 1, 0,\n",
        "              1, 0, 0, 1, 0, 1, 0, 0, 1, 1, 0, 0, 0, 0, 0, 1, 0, 1, 0, 0, 1, 0,\n",
        "              1, 1, 1, 1, 1, 0, 1, 1, 0, 0, 0, 0, 1, 0, 0, 0, 1, 0, 0, 1, 0, 1,\n",
        "              1, 0, 0, 1, 1, 1, 0, 1, 1, 1, 0, 1, 1, 0, 1, 1, 1, 1, 1, 0, 1, 1,\n",
        "              1, 0, 0, 0, 1, 0, 0, 0, 1, 0, 1, 0, 1, 0, 1, 0, 0, 1, 1, 0, 0, 0,\n",
        "              0, 1, 0, 0, 1, 1, 0, 0, 1, 0, 1, 1, 0, 1, 1, 0, 0, 1, 1, 0, 0, 0,\n",
        "              1, 1, 1, 1, 0, 1, 1, 0, 1, 0, 0, 1, 0, 1, 1, 0, 0, 0, 1, 0, 1, 0,\n",
        "              1, 0, 0, 0, 0, 0, 1, 1, 0, 0, 1, 0, 1, 1, 0, 1, 1, 1, 0, 0, 1, 0,\n",
        "              1, 1, 1, 0, 1, 1, 1, 1, 0, 1, 0, 1, 1, 1, 1, 0, 1, 1, 0, 1, 0, 0,\n",
        "              0, 0, 0 , 1, 1, 0, 1, 0, 1, 0, 0, 0, 1, 0, 0, 1, 0, 1, 1, 0, 1, 1,\n",
        "              0, 1, 0, 0, 0, 0, 0, 0, 1, 0, 1, 0, 0, 0, 0, 0]\n",
        "\n",
        "encrypted_flag = base64.b64decode(\"UA/JtI3+ZGIHejABkuiel2757g==\")\n",
        "\n",
        "\"\"\"\n",
        "Helper Functions!\n",
        "\"\"\"\n",
        "\n",
        "def stringify(arr):\n",
        "    s = \"\"\n",
        "    for x in arr:\n",
        "        s += str(x)\n",
        "    return s\n",
        "\n",
        "def bit_array_to_bytes(bits):\n",
        "    return bytearray([int(\"\".join(map(str, bits[i:i+8])), 2) for i in range(0, len(bits), 8)])\n",
        "\n",
        "def bytes_to_bit_array(bytes):\n",
        "    return list(''.join(format(ord(byte), '08b') for byte in stringify(bytes)))\n",
        "\n",
        "def pretty(x):\n",
        "    #return base64.b64encode(bit_array_to_bytes(stringify(x)))\n",
        "    return base64.b64encode(bit_array_to_bytes(x))\n",
        "\n",
        "def xor_crypt(key, text):\n",
        "    if not len(text) <= len(key):\n",
        "        return \"Length Error\"\n",
        "    return list(a^b for a,b in zip(key,text))"
      ],
      "metadata": {
        "id": "as_edIwYLV2D"
      },
      "execution_count": 77,
      "outputs": []
    },
    {
      "cell_type": "code",
      "source": [
        "# TODO: Compare Alice_bases and Bob_bases and throw away the mismatching terms\n",
        "# keep the indices of the matching ones and use those to address alice_bits - these\n",
        "# are the encoding bits\n",
        "\n",
        "# Then convert that bitstring to base64 as a key"
      ],
      "metadata": {
        "id": "u-Vee8WAqkBi"
      },
      "execution_count": 78,
      "outputs": []
    },
    {
      "cell_type": "code",
      "source": [
        "# Basis reconciliation\n",
        "matching_bases_indices = [i for i in range(len(Alice_bases)) if Alice_bases[i] == Bob_bases[i]]\n",
        "shared_key = [alice_bits[i] for i in matching_bases_indices]\n",
        "\n",
        "# Decrypt the flag\n",
        "decrypted_flag = xor_crypt(shared_key, stringify(bytes_to_bit_array(encrypted_flag)))\n",
        "\n",
        "# Print the decrypted flag\n",
        "print(decrypted_flag)\n",
        "\n",
        "# decrypted_flag_str = ''.join(chr(x) for x in decrypted_flag)\n",
        "# print(decrypted_flag_str)"
      ],
      "metadata": {
        "colab": {
          "base_uri": "https://localhost:8080/"
        },
        "id": "KJyR-WpM9eu8",
        "outputId": "6a188dcd-71df-4dca-9d96-c856fb234bd9"
      },
      "execution_count": 79,
      "outputs": [
        {
          "output_type": "stream",
          "name": "stdout",
          "text": [
            "Length Error\n"
          ]
        }
      ]
    },
    {
      "cell_type": "code",
      "source": [
        "len(stringify((bytes_to_bit_array(encrypted_flag))))\n",
        "len((shared_key))"
      ],
      "metadata": {
        "colab": {
          "base_uri": "https://localhost:8080/"
        },
        "id": "e41C-_pk-LJU",
        "outputId": "bf560751-46fd-4f91-c03b-4d0e0fdeb01d"
      },
      "execution_count": 80,
      "outputs": [
        {
          "output_type": "execute_result",
          "data": {
            "text/plain": [
              "189"
            ]
          },
          "metadata": {},
          "execution_count": 80
        }
      ]
    },
    {
      "cell_type": "code",
      "source": [
        "xor_crypt(stringify(bytes_to_bit_array(encrypted_flag)), shared_key)"
      ],
      "metadata": {
        "id": "VY_Tx5K5-44D",
        "outputId": "2fe6f2eb-29df-43c6-c482-c8194ed85744",
        "colab": {
          "base_uri": "https://localhost:8080/",
          "height": 286
        }
      },
      "execution_count": 81,
      "outputs": [
        {
          "output_type": "error",
          "ename": "TypeError",
          "evalue": "ignored",
          "traceback": [
            "\u001b[0;31m---------------------------------------------------------------------------\u001b[0m",
            "\u001b[0;31mTypeError\u001b[0m                                 Traceback (most recent call last)",
            "\u001b[0;32m<ipython-input-81-8b95b88a8cea>\u001b[0m in \u001b[0;36m<cell line: 1>\u001b[0;34m()\u001b[0m\n\u001b[0;32m----> 1\u001b[0;31m \u001b[0mxor_crypt\u001b[0m\u001b[0;34m(\u001b[0m\u001b[0mstringify\u001b[0m\u001b[0;34m(\u001b[0m\u001b[0mbytes_to_bit_array\u001b[0m\u001b[0;34m(\u001b[0m\u001b[0mencrypted_flag\u001b[0m\u001b[0;34m)\u001b[0m\u001b[0;34m)\u001b[0m\u001b[0;34m,\u001b[0m \u001b[0mshared_key\u001b[0m\u001b[0;34m)\u001b[0m\u001b[0;34m\u001b[0m\u001b[0;34m\u001b[0m\u001b[0m\n\u001b[0m",
            "\u001b[0;32m<ipython-input-77-74bb6b12dbac>\u001b[0m in \u001b[0;36mxor_crypt\u001b[0;34m(key, text)\u001b[0m\n\u001b[1;32m     46\u001b[0m     \u001b[0;32mif\u001b[0m \u001b[0;32mnot\u001b[0m \u001b[0mlen\u001b[0m\u001b[0;34m(\u001b[0m\u001b[0mtext\u001b[0m\u001b[0;34m)\u001b[0m \u001b[0;34m<=\u001b[0m \u001b[0mlen\u001b[0m\u001b[0;34m(\u001b[0m\u001b[0mkey\u001b[0m\u001b[0;34m)\u001b[0m\u001b[0;34m:\u001b[0m\u001b[0;34m\u001b[0m\u001b[0;34m\u001b[0m\u001b[0m\n\u001b[1;32m     47\u001b[0m         \u001b[0;32mreturn\u001b[0m \u001b[0;34m\"Length Error\"\u001b[0m\u001b[0;34m\u001b[0m\u001b[0;34m\u001b[0m\u001b[0m\n\u001b[0;32m---> 48\u001b[0;31m     \u001b[0;32mreturn\u001b[0m \u001b[0mlist\u001b[0m\u001b[0;34m(\u001b[0m\u001b[0ma\u001b[0m\u001b[0;34m^\u001b[0m\u001b[0mb\u001b[0m \u001b[0;32mfor\u001b[0m \u001b[0ma\u001b[0m\u001b[0;34m,\u001b[0m\u001b[0mb\u001b[0m \u001b[0;32min\u001b[0m \u001b[0mzip\u001b[0m\u001b[0;34m(\u001b[0m\u001b[0mkey\u001b[0m\u001b[0;34m,\u001b[0m\u001b[0mtext\u001b[0m\u001b[0;34m)\u001b[0m\u001b[0;34m)\u001b[0m\u001b[0;34m\u001b[0m\u001b[0;34m\u001b[0m\u001b[0m\n\u001b[0m",
            "\u001b[0;32m<ipython-input-77-74bb6b12dbac>\u001b[0m in \u001b[0;36m<genexpr>\u001b[0;34m(.0)\u001b[0m\n\u001b[1;32m     46\u001b[0m     \u001b[0;32mif\u001b[0m \u001b[0;32mnot\u001b[0m \u001b[0mlen\u001b[0m\u001b[0;34m(\u001b[0m\u001b[0mtext\u001b[0m\u001b[0;34m)\u001b[0m \u001b[0;34m<=\u001b[0m \u001b[0mlen\u001b[0m\u001b[0;34m(\u001b[0m\u001b[0mkey\u001b[0m\u001b[0;34m)\u001b[0m\u001b[0;34m:\u001b[0m\u001b[0;34m\u001b[0m\u001b[0;34m\u001b[0m\u001b[0m\n\u001b[1;32m     47\u001b[0m         \u001b[0;32mreturn\u001b[0m \u001b[0;34m\"Length Error\"\u001b[0m\u001b[0;34m\u001b[0m\u001b[0;34m\u001b[0m\u001b[0m\n\u001b[0;32m---> 48\u001b[0;31m     \u001b[0;32mreturn\u001b[0m \u001b[0mlist\u001b[0m\u001b[0;34m(\u001b[0m\u001b[0ma\u001b[0m\u001b[0;34m^\u001b[0m\u001b[0mb\u001b[0m \u001b[0;32mfor\u001b[0m \u001b[0ma\u001b[0m\u001b[0;34m,\u001b[0m\u001b[0mb\u001b[0m \u001b[0;32min\u001b[0m \u001b[0mzip\u001b[0m\u001b[0;34m(\u001b[0m\u001b[0mkey\u001b[0m\u001b[0;34m,\u001b[0m\u001b[0mtext\u001b[0m\u001b[0;34m)\u001b[0m\u001b[0;34m)\u001b[0m\u001b[0;34m\u001b[0m\u001b[0;34m\u001b[0m\u001b[0m\n\u001b[0m",
            "\u001b[0;31mTypeError\u001b[0m: unsupported operand type(s) for ^: 'str' and 'int'"
          ]
        }
      ]
    },
    {
      "cell_type": "code",
      "source": [
        "encrypted_flag\n",
        "pretty(bytes_to_bit_array(encrypted_flag))"
      ],
      "metadata": {
        "colab": {
          "base_uri": "https://localhost:8080/"
        },
        "id": "O9GX6yg_72I-",
        "outputId": "19a46378-a49a-47f4-9f5b-0023be0ee641"
      },
      "execution_count": 82,
      "outputs": [
        {
          "output_type": "execute_result",
          "data": {
            "text/plain": [
              "b'ODAxNTIwMTE4MDE0MTI1NDEwMDk4NzEyMjQ4MTE0NjIzMjE1ODE1MTExMDI0OTIzOA=='"
            ]
          },
          "metadata": {},
          "execution_count": 82
        }
      ]
    },
    {
      "cell_type": "code",
      "execution_count": 83,
      "metadata": {
        "colab": {
          "base_uri": "https://localhost:8080/"
        },
        "id": "o-W1e1qlLSK0",
        "outputId": "8c93fb4d-e1d4-4835-d855-62291e9c37e6"
      },
      "outputs": [
        {
          "output_type": "execute_result",
          "data": {
            "text/plain": [
              "189"
            ]
          },
          "metadata": {},
          "execution_count": 83
        }
      ],
      "source": [
        "index_lst = []\n",
        "\n",
        "\n",
        "for i in range(0, len(Alice_bases)):\n",
        "  if Alice_bases[i] == Bob_bases[i]:\n",
        "    index_lst.append(i)\n",
        "\n",
        "len(index_lst)\n",
        "# index_lst"
      ]
    },
    {
      "cell_type": "code",
      "source": [
        "key_bits = []\n",
        "\n",
        "for j in range(0, len(alice_bits)):\n",
        "  if j in index_lst:\n",
        "\n",
        "    key_bits.append(alice_bits[j])\n",
        "\n",
        "len(key_bits)"
      ],
      "metadata": {
        "colab": {
          "base_uri": "https://localhost:8080/"
        },
        "id": "h7xUX5BZuFTG",
        "outputId": "840bc051-358a-4d5b-cac8-35b8bcb508af"
      },
      "execution_count": 84,
      "outputs": [
        {
          "output_type": "execute_result",
          "data": {
            "text/plain": [
              "189"
            ]
          },
          "metadata": {},
          "execution_count": 84
        }
      ]
    },
    {
      "cell_type": "code",
      "source": [
        "stringified_key_bits = stringify(key_bits)\n",
        "\n",
        "bit_array_str_key_bits =  bit_array_to_bytes(stringified_key_bits)\n",
        "\n",
        "base_64_key = pretty(stringified_key_bits)\n",
        "base_64_key"
      ],
      "metadata": {
        "id": "FXaSLnaJLWDG",
        "colab": {
          "base_uri": "https://localhost:8080/"
        },
        "outputId": "f45d4c8a-fa19-4d4c-e4e0-a79d5b6c1165"
      },
      "execution_count": 85,
      "outputs": [
        {
          "output_type": "execute_result",
          "data": {
            "text/plain": [
              "b'NmOo0/avSTFuDlUhwJ3ypBTYk63tRjAI'"
            ]
          },
          "metadata": {},
          "execution_count": 85
        }
      ]
    },
    {
      "cell_type": "code",
      "source": [
        "# Decode flag:\n",
        "\n",
        "xor_crypt(bit_array_str_key_bits, encrypted_flag)\n",
        "\n",
        "xor_crypt(base_64_key, base64.b64encode(encrypted_flag))\n",
        "\n",
        "xor_crypt(pretty(bytes_to_bit_array(encrypted_flag)), base_64_key)"
      ],
      "metadata": {
        "id": "LS4gSveor-tN",
        "colab": {
          "base_uri": "https://localhost:8080/"
        },
        "outputId": "52837811-3a42-4d15-fb4d-2ee0f34429ce"
      },
      "execution_count": 86,
      "outputs": [
        {
          "output_type": "execute_result",
          "data": {
            "text/plain": [
              "[1,\n",
              " 41,\n",
              " 14,\n",
              " 23,\n",
              " 126,\n",
              " 123,\n",
              " 40,\n",
              " 1,\n",
              " 30,\n",
              " 0,\n",
              " 3,\n",
              " 65,\n",
              " 9,\n",
              " 40,\n",
              " 16,\n",
              " 88,\n",
              " 58,\n",
              " 30,\n",
              " 122,\n",
              " 72,\n",
              " 62,\n",
              " 6,\n",
              " 17,\n",
              " 46,\n",
              " 38,\n",
              " 114,\n",
              " 88,\n",
              " 64,\n",
              " 28,\n",
              " 16,\n",
              " 4,\n",
              " 48]"
            ]
          },
          "metadata": {},
          "execution_count": 86
        }
      ]
    },
    {
      "cell_type": "code",
      "source": [],
      "metadata": {
        "id": "6HkAEOe1x90m"
      },
      "execution_count": null,
      "outputs": []
    },
    {
      "cell_type": "code",
      "source": [],
      "metadata": {
        "id": "_3mIHlm3x93M"
      },
      "execution_count": null,
      "outputs": []
    },
    {
      "cell_type": "code",
      "source": [],
      "metadata": {
        "id": "ERbaNozN7Dxx"
      },
      "execution_count": null,
      "outputs": []
    }
  ]
}